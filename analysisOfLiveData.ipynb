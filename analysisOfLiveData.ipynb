{
 "cells": [
  {
   "cell_type": "code",
   "execution_count": 1,
   "metadata": {
    "colab": {
     "base_uri": "https://localhost:8080/"
    },
    "executionInfo": {
     "elapsed": 56515,
     "status": "ok",
     "timestamp": 1639772646413,
     "user": {
      "displayName": "venkatavarun nelakuditi",
      "photoUrl": "https://lh3.googleusercontent.com/a/default-user=s64",
      "userId": "09823158079456519085"
     },
     "user_tz": 360
    },
    "id": "RCCMJoIGvDYV",
    "outputId": "5a8ae2a5-879d-48c0-fef1-ec0459a6b9c6"
   },
   "outputs": [
    {
     "name": "stdout",
     "output_type": "stream",
     "text": [
      "Requirement already satisfied: pyspark==3.2 in c:\\users\\nvgkv\\anaconda3\\lib\\site-packages (3.2.0)\n",
      "Requirement already satisfied: py4j==0.10.9.2 in c:\\users\\nvgkv\\anaconda3\\lib\\site-packages (from pyspark==3.2) (0.10.9.2)\n",
      "Note: you may need to restart the kernel to use updated packages.\n"
     ]
    }
   ],
   "source": [
    "pip install pyspark==3.2"
   ]
  },
  {
   "cell_type": "code",
   "execution_count": 2,
   "metadata": {
    "executionInfo": {
     "elapsed": 100,
     "status": "ok",
     "timestamp": 1639772646501,
     "user": {
      "displayName": "venkatavarun nelakuditi",
      "photoUrl": "https://lh3.googleusercontent.com/a/default-user=s64",
      "userId": "09823158079456519085"
     },
     "user_tz": 360
    },
    "id": "yHSsOgJXvYkR"
   },
   "outputs": [],
   "source": [
    "import pyspark as ps"
   ]
  },
  {
   "cell_type": "code",
   "execution_count": 3,
   "metadata": {
    "colab": {
     "base_uri": "https://localhost:8080/"
    },
    "executionInfo": {
     "elapsed": 32673,
     "status": "ok",
     "timestamp": 1639772679172,
     "user": {
      "displayName": "venkatavarun nelakuditi",
      "photoUrl": "https://lh3.googleusercontent.com/a/default-user=s64",
      "userId": "09823158079456519085"
     },
     "user_tz": 360
    },
    "id": "0nQRmXgwvb4A",
    "outputId": "f7fe4fad-7008-49e6-9d92-6cff14fcaf7a"
   },
   "outputs": [
    {
     "ename": "ModuleNotFoundError",
     "evalue": "No module named 'google'",
     "output_type": "error",
     "traceback": [
      "\u001b[1;31m---------------------------------------------------------------------------\u001b[0m",
      "\u001b[1;31mModuleNotFoundError\u001b[0m                       Traceback (most recent call last)",
      "\u001b[1;32m~\\AppData\\Local\\Temp/ipykernel_22152/1050275017.py\u001b[0m in \u001b[0;36m<module>\u001b[1;34m\u001b[0m\n\u001b[1;32m----> 1\u001b[1;33m \u001b[1;32mfrom\u001b[0m \u001b[0mgoogle\u001b[0m\u001b[1;33m.\u001b[0m\u001b[0mcolab\u001b[0m \u001b[1;32mimport\u001b[0m \u001b[0mdrive\u001b[0m\u001b[1;33m\u001b[0m\u001b[1;33m\u001b[0m\u001b[0m\n\u001b[0m\u001b[0;32m      2\u001b[0m \u001b[0mdrive\u001b[0m\u001b[1;33m.\u001b[0m\u001b[0mmount\u001b[0m\u001b[1;33m(\u001b[0m\u001b[1;34m'/content/gdrive'\u001b[0m\u001b[1;33m)\u001b[0m\u001b[1;33m\u001b[0m\u001b[1;33m\u001b[0m\u001b[0m\n",
      "\u001b[1;31mModuleNotFoundError\u001b[0m: No module named 'google'"
     ]
    }
   ],
   "source": [
    "from google.colab import drive\n",
    "drive.mount('/content/gdrive')"
   ]
  },
  {
   "cell_type": "code",
   "execution_count": null,
   "metadata": {
    "executionInfo": {
     "elapsed": 84,
     "status": "ok",
     "timestamp": 1639772688786,
     "user": {
      "displayName": "venkatavarun nelakuditi",
      "photoUrl": "https://lh3.googleusercontent.com/a/default-user=s64",
      "userId": "09823158079456519085"
     },
     "user_tz": 360
    },
    "id": "AEtO_w7-vgI4"
   },
   "outputs": [],
   "source": [
    "file=\"/content/gdrive/MyDrive/TweetSentimentAnalysisCategoryAndVisualization/PredictedDataset/part-00000-1a6b304d-5422-4b8a-be02-064539e99158-c000.csv\"\n",
    "file1=\"/content/gdrive/MyDrive/TweetSentimentAnalysisCategoryAndVisualization/PredictedDataset/part-00001-1a6b304d-5422-4b8a-be02-064539e99158-c000.csv\"\n",
    "file2=\"/content/gdrive/MyDrive/TweetSentimentAnalysisCategoryAndVisualization/PredictedDataset/part-00002-1a6b304d-5422-4b8a-be02-064539e99158-c000.csv\"\n",
    "file3=\"/content/gdrive/MyDrive/TweetSentimentAnalysisCategoryAndVisualization/PredictedDataset/part-00003-1a6b304d-5422-4b8a-be02-064539e99158-c000.csv\"\n",
    "file4=\"/content/gdrive/MyDrive/TweetSentimentAnalysisCategoryAndVisualization/PredictedDataset/part-00004-1a6b304d-5422-4b8a-be02-064539e99158-c000.csv\"\n",
    "file5=\"/content/gdrive/MyDrive/TweetSentimentAnalysisCategoryAndVisualization/PredictedDataset/part-00005-1a6b304d-5422-4b8a-be02-064539e99158-c000.csv\""
   ]
  },
  {
   "cell_type": "code",
   "execution_count": null,
   "metadata": {
    "executionInfo": {
     "elapsed": 6186,
     "status": "ok",
     "timestamp": 1639772707801,
     "user": {
      "displayName": "venkatavarun nelakuditi",
      "photoUrl": "https://lh3.googleusercontent.com/a/default-user=s64",
      "userId": "09823158079456519085"
     },
     "user_tz": 360
    },
    "id": "My8isz_sv3kh"
   },
   "outputs": [],
   "source": [
    "#sc.stop()\n",
    "conf = ps.SparkConf().setAll([('spark.executor.memory', '16g'), ('spark.driver.memory', '16g')])\n",
    "sc = ps.SparkContext(conf=conf)"
   ]
  },
  {
   "cell_type": "code",
   "execution_count": null,
   "metadata": {
    "executionInfo": {
     "elapsed": 4,
     "status": "ok",
     "timestamp": 1639772707801,
     "user": {
      "displayName": "venkatavarun nelakuditi",
      "photoUrl": "https://lh3.googleusercontent.com/a/default-user=s64",
      "userId": "09823158079456519085"
     },
     "user_tz": 360
    },
    "id": "XQ-_XiIJOexN"
   },
   "outputs": [],
   "source": [
    "import functools\n",
    "  \n",
    "def unionAll(dfs):\n",
    "    return functools.reduce(lambda df1, df2: df1.union(df2.select(df1.columns)), dfs)"
   ]
  },
  {
   "cell_type": "code",
   "execution_count": null,
   "metadata": {
    "colab": {
     "base_uri": "https://localhost:8080/"
    },
    "executionInfo": {
     "elapsed": 13831,
     "status": "ok",
     "timestamp": 1639772724344,
     "user": {
      "displayName": "venkatavarun nelakuditi",
      "photoUrl": "https://lh3.googleusercontent.com/a/default-user=s64",
      "userId": "09823158079456519085"
     },
     "user_tz": 360
    },
    "id": "qf0F94ibv5tR",
    "outputId": "6c71777d-6bb7-4871-e1e0-37f025323f86"
   },
   "outputs": [],
   "source": [
    "from pyspark.sql import SQLContext\n",
    "\n",
    "sql_context = SQLContext(sc)\n",
    "TwitterDataset = sql_context.read.format('com.databricks.spark.csv').option('header','false').option(\"delimiter\", \",\").load(file)\n",
    "TwitterDataset1 = sql_context.read.format('com.databricks.spark.csv').option('header','false').option(\"delimiter\", \",\").load(file1)\n",
    "TwitterDataset2 = sql_context.read.format('com.databricks.spark.csv').option('header','false').option(\"delimiter\", \",\").load(file2)\n",
    "TwitterDataset3 = sql_context.read.format('com.databricks.spark.csv').option('header','false').option(\"delimiter\", \",\").load(file3)\n",
    "TwitterDataset4 = sql_context.read.format('com.databricks.spark.csv').option('header','false').option(\"delimiter\", \",\").load(file4)\n",
    "TwitterDataset5 = sql_context.read.format('com.databricks.spark.csv').option('header','false').option(\"delimiter\", \",\").load(file5)"
   ]
  },
  {
   "cell_type": "code",
   "execution_count": null,
   "metadata": {
    "id": "rXF5P6-zK4-s"
   },
   "outputs": [],
   "source": []
  },
  {
   "cell_type": "code",
   "execution_count": null,
   "metadata": {
    "executionInfo": {
     "elapsed": 102,
     "status": "ok",
     "timestamp": 1639772724442,
     "user": {
      "displayName": "venkatavarun nelakuditi",
      "photoUrl": "https://lh3.googleusercontent.com/a/default-user=s64",
      "userId": "09823158079456519085"
     },
     "user_tz": 360
    },
    "id": "F4Vka6lDK6Ar"
   },
   "outputs": [],
   "source": [
    "\n",
    "TwitterDataset = unionAll([TwitterDataset, TwitterDataset2])"
   ]
  },
  {
   "cell_type": "code",
   "execution_count": null,
   "metadata": {
    "executionInfo": {
     "elapsed": 84,
     "status": "ok",
     "timestamp": 1639772724525,
     "user": {
      "displayName": "venkatavarun nelakuditi",
      "photoUrl": "https://lh3.googleusercontent.com/a/default-user=s64",
      "userId": "09823158079456519085"
     },
     "user_tz": 360
    },
    "id": "7oInqEmOOf3F"
   },
   "outputs": [],
   "source": [
    "TwitterDataset = unionAll([TwitterDataset, TwitterDataset1])"
   ]
  },
  {
   "cell_type": "code",
   "execution_count": null,
   "metadata": {
    "executionInfo": {
     "elapsed": 76,
     "status": "ok",
     "timestamp": 1639772725168,
     "user": {
      "displayName": "venkatavarun nelakuditi",
      "photoUrl": "https://lh3.googleusercontent.com/a/default-user=s64",
      "userId": "09823158079456519085"
     },
     "user_tz": 360
    },
    "id": "vabeIrvlUP0o"
   },
   "outputs": [],
   "source": [
    "TwitterDataset = unionAll([TwitterDataset, TwitterDataset3])"
   ]
  },
  {
   "cell_type": "code",
   "execution_count": null,
   "metadata": {
    "executionInfo": {
     "elapsed": 187,
     "status": "ok",
     "timestamp": 1639772726140,
     "user": {
      "displayName": "venkatavarun nelakuditi",
      "photoUrl": "https://lh3.googleusercontent.com/a/default-user=s64",
      "userId": "09823158079456519085"
     },
     "user_tz": 360
    },
    "id": "gbh6Mu50UR1n"
   },
   "outputs": [],
   "source": [
    "TwitterDataset = unionAll([TwitterDataset, TwitterDataset4])"
   ]
  },
  {
   "cell_type": "code",
   "execution_count": null,
   "metadata": {
    "executionInfo": {
     "elapsed": 85,
     "status": "ok",
     "timestamp": 1639772726792,
     "user": {
      "displayName": "venkatavarun nelakuditi",
      "photoUrl": "https://lh3.googleusercontent.com/a/default-user=s64",
      "userId": "09823158079456519085"
     },
     "user_tz": 360
    },
    "id": "7oajXpc0UTc_"
   },
   "outputs": [],
   "source": [
    "TwitterDataset = unionAll([TwitterDataset, TwitterDataset5])"
   ]
  },
  {
   "cell_type": "code",
   "execution_count": null,
   "metadata": {
    "colab": {
     "base_uri": "https://localhost:8080/"
    },
    "executionInfo": {
     "elapsed": 2676,
     "status": "ok",
     "timestamp": 1639772730364,
     "user": {
      "displayName": "venkatavarun nelakuditi",
      "photoUrl": "https://lh3.googleusercontent.com/a/default-user=s64",
      "userId": "09823158079456519085"
     },
     "user_tz": 360
    },
    "id": "jjbbjDF-O1xP",
    "outputId": "9dd57bc1-a367-477a-c668-753d8aef32be"
   },
   "outputs": [],
   "source": [
    "print(TwitterDataset.count())"
   ]
  },
  {
   "cell_type": "code",
   "execution_count": null,
   "metadata": {
    "colab": {
     "base_uri": "https://localhost:8080/"
    },
    "executionInfo": {
     "elapsed": 798,
     "status": "ok",
     "timestamp": 1639772732886,
     "user": {
      "displayName": "venkatavarun nelakuditi",
      "photoUrl": "https://lh3.googleusercontent.com/a/default-user=s64",
      "userId": "09823158079456519085"
     },
     "user_tz": 360
    },
    "id": "INCdQc8Pw1-h",
    "outputId": "c01bb121-d459-4702-c756-bf6f21757412"
   },
   "outputs": [],
   "source": [
    "TwitterDataset.show()"
   ]
  },
  {
   "cell_type": "code",
   "execution_count": null,
   "metadata": {
    "executionInfo": {
     "elapsed": 87,
     "status": "ok",
     "timestamp": 1639772876641,
     "user": {
      "displayName": "venkatavarun nelakuditi",
      "photoUrl": "https://lh3.googleusercontent.com/a/default-user=s64",
      "userId": "09823158079456519085"
     },
     "user_tz": 360
    },
    "id": "QQ6G9QUvwIL5"
   },
   "outputs": [],
   "source": [
    "query_1_source = TwitterDataset.groupBy(\"_c2\").count()\n"
   ]
  },
  {
   "cell_type": "code",
   "execution_count": null,
   "metadata": {
    "colab": {
     "base_uri": "https://localhost:8080/"
    },
    "executionInfo": {
     "elapsed": 3067,
     "status": "ok",
     "timestamp": 1639772880444,
     "user": {
      "displayName": "venkatavarun nelakuditi",
      "photoUrl": "https://lh3.googleusercontent.com/a/default-user=s64",
      "userId": "09823158079456519085"
     },
     "user_tz": 360
    },
    "id": "mVMtLn8GzksC",
    "outputId": "d9789392-7b28-4fb4-8f98-a1e21ceedadc"
   },
   "outputs": [],
   "source": [
    "query_1_source.show()"
   ]
  },
  {
   "cell_type": "code",
   "execution_count": null,
   "metadata": {
    "executionInfo": {
     "elapsed": 121,
     "status": "ok",
     "timestamp": 1639772880562,
     "user": {
      "displayName": "venkatavarun nelakuditi",
      "photoUrl": "https://lh3.googleusercontent.com/a/default-user=s64",
      "userId": "09823158079456519085"
     },
     "user_tz": 360
    },
    "id": "F9rFdQBM1U3q"
   },
   "outputs": [],
   "source": [
    "TwitterDataset.createOrReplaceTempView(\"tweets\")"
   ]
  },
  {
   "cell_type": "code",
   "execution_count": null,
   "metadata": {
    "executionInfo": {
     "elapsed": 287,
     "status": "ok",
     "timestamp": 1639772880847,
     "user": {
      "displayName": "venkatavarun nelakuditi",
      "photoUrl": "https://lh3.googleusercontent.com/a/default-user=s64",
      "userId": "09823158079456519085"
     },
     "user_tz": 360
    },
    "id": "XwWIfXIH1U87"
   },
   "outputs": [],
   "source": [
    "query_1_source = sql_context.sql(\"SELECT cast(count(*) as int) as count , _c2 as categories FROM tweets WHERE _c2 ='political' or _c2='tech' or _c2='business' GROUP BY _c2 ORDER BY count desc\")"
   ]
  },
  {
   "cell_type": "code",
   "execution_count": null,
   "metadata": {
    "executionInfo": {
     "elapsed": 3169,
     "status": "ok",
     "timestamp": 1639772884088,
     "user": {
      "displayName": "venkatavarun nelakuditi",
      "photoUrl": "https://lh3.googleusercontent.com/a/default-user=s64",
      "userId": "09823158079456519085"
     },
     "user_tz": 360
    },
    "id": "9WLI69hRzjjE"
   },
   "outputs": [],
   "source": [
    "query_1_source = query_1_source.toPandas()\n"
   ]
  },
  {
   "cell_type": "code",
   "execution_count": null,
   "metadata": {
    "colab": {
     "base_uri": "https://localhost:8080/",
     "height": 497
    },
    "executionInfo": {
     "elapsed": 892,
     "status": "ok",
     "timestamp": 1639772884978,
     "user": {
      "displayName": "venkatavarun nelakuditi",
      "photoUrl": "https://lh3.googleusercontent.com/a/default-user=s64",
      "userId": "09823158079456519085"
     },
     "user_tz": 360
    },
    "id": "KLT_YIZx0B2y",
    "outputId": "3eed1e25-1103-4717-d398-313aef1da693"
   },
   "outputs": [],
   "source": [
    "import matplotlib.pyplot as plt\n",
    "plt.figure(figsize = (10, 8))\n",
    "import seaborn as sns\n",
    "import pandas\n",
    "sns.barplot( x=\"categories\", y=\"count\", data=query_1_source)\n",
    "plt.show()"
   ]
  },
  {
   "cell_type": "code",
   "execution_count": null,
   "metadata": {
    "executionInfo": {
     "elapsed": 98,
     "status": "ok",
     "timestamp": 1639772885914,
     "user": {
      "displayName": "venkatavarun nelakuditi",
      "photoUrl": "https://lh3.googleusercontent.com/a/default-user=s64",
      "userId": "09823158079456519085"
     },
     "user_tz": 360
    },
    "id": "RzEPA2T2CPZb"
   },
   "outputs": [],
   "source": [
    "from pyspark.sql.functions import col\n",
    "#sentimentDataSet = TwitterDataset.select(col(\"_c1\").alias(\"Sentiment\"))\n",
    "query_1_source = sql_context.sql(\"SELECT * FROM tweets WHERE _c2 ='political' or _c2='tech' or _c2='business' \")"
   ]
  },
  {
   "cell_type": "code",
   "execution_count": null,
   "metadata": {
    "executionInfo": {
     "elapsed": 206,
     "status": "ok",
     "timestamp": 1639772891777,
     "user": {
      "displayName": "venkatavarun nelakuditi",
      "photoUrl": "https://lh3.googleusercontent.com/a/default-user=s64",
      "userId": "09823158079456519085"
     },
     "user_tz": 360
    },
    "id": "nACD7O7jCQvZ"
   },
   "outputs": [],
   "source": [
    "from pyspark.sql.functions import when\n",
    "sentimentDataSet=query_1_source.withColumn(\"_c1\", when(col(\"_c1\") == 0, \"Negitive\").otherwise(\"Positive\"))"
   ]
  },
  {
   "cell_type": "code",
   "execution_count": null,
   "metadata": {
    "colab": {
     "base_uri": "https://localhost:8080/",
     "height": 282
    },
    "executionInfo": {
     "elapsed": 4262,
     "status": "ok",
     "timestamp": 1639772898400,
     "user": {
      "displayName": "venkatavarun nelakuditi",
      "photoUrl": "https://lh3.googleusercontent.com/a/default-user=s64",
      "userId": "09823158079456519085"
     },
     "user_tz": 360
    },
    "id": "-G4lwfU8_lBG",
    "outputId": "baf0b3b6-4a33-407d-f591-c9b5e259fe6d"
   },
   "outputs": [],
   "source": [
    "#airline_tweets.airline_sentiment.value_counts().plot(kind='pie', autopct='%1.0f%%', colors=[\"red\", \"yellow\", \"green\"])\n",
    "\n",
    "query_3_source = sentimentDataSet.toPandas()\n",
    "print(query_3_source.columns)\n",
    "query_3_source._c1.value_counts().plot(kind='pie', autopct='%1.0f%%', colors=[\"gray\", \"red\"])"
   ]
  },
  {
   "cell_type": "code",
   "execution_count": null,
   "metadata": {
    "executionInfo": {
     "elapsed": 4,
     "status": "ok",
     "timestamp": 1639772898400,
     "user": {
      "displayName": "venkatavarun nelakuditi",
      "photoUrl": "https://lh3.googleusercontent.com/a/default-user=s64",
      "userId": "09823158079456519085"
     },
     "user_tz": 360
    },
    "id": "-cgmH5X-EGxX"
   },
   "outputs": [],
   "source": [
    "sentimentcategoryDataSet=sql_context.sql(\"SELECT * FROM tweets WHERE _c2 ='political' or _c2='tech' or _c2='business' \")"
   ]
  },
  {
   "cell_type": "code",
   "execution_count": null,
   "metadata": {
    "colab": {
     "base_uri": "https://localhost:8080/"
    },
    "executionInfo": {
     "elapsed": 94,
     "status": "ok",
     "timestamp": 1639772899236,
     "user": {
      "displayName": "venkatavarun nelakuditi",
      "photoUrl": "https://lh3.googleusercontent.com/a/default-user=s64",
      "userId": "09823158079456519085"
     },
     "user_tz": 360
    },
    "id": "-maGJuh4fmrr",
    "outputId": "de14494f-fbff-46b0-99c8-8b710cc02097"
   },
   "outputs": [],
   "source": [
    "sentimentcategoryDataSet"
   ]
  },
  {
   "cell_type": "code",
   "execution_count": null,
   "metadata": {
    "executionInfo": {
     "elapsed": 319,
     "status": "ok",
     "timestamp": 1639772902365,
     "user": {
      "displayName": "venkatavarun nelakuditi",
      "photoUrl": "https://lh3.googleusercontent.com/a/default-user=s64",
      "userId": "09823158079456519085"
     },
     "user_tz": 360
    },
    "id": "ZJddPH9zHdzO"
   },
   "outputs": [],
   "source": [
    "sentimentcategoryDataSet = sentimentcategoryDataSet.select(col(\"_c1\").alias(\"Sentiment\"),col(\"_c2\"),col(\"_c0\"))\n",
    "sentimentcategoryDataSet=sentimentcategoryDataSet.withColumn(\"Sentiment\", when(col(\"Sentiment\") == 0, \"Negitive\").otherwise(\"Positive\"))"
   ]
  },
  {
   "cell_type": "code",
   "execution_count": null,
   "metadata": {
    "colab": {
     "base_uri": "https://localhost:8080/"
    },
    "executionInfo": {
     "elapsed": 619,
     "status": "ok",
     "timestamp": 1639772904620,
     "user": {
      "displayName": "venkatavarun nelakuditi",
      "photoUrl": "https://lh3.googleusercontent.com/a/default-user=s64",
      "userId": "09823158079456519085"
     },
     "user_tz": 360
    },
    "id": "7yszEpyQGPfW",
    "outputId": "21828e67-3eaf-462e-c6a5-eb9ce64ad9b8"
   },
   "outputs": [],
   "source": [
    "sentimentcategoryDataSet.show()"
   ]
  },
  {
   "cell_type": "code",
   "execution_count": null,
   "metadata": {
    "executionInfo": {
     "elapsed": 3108,
     "status": "ok",
     "timestamp": 1639772909552,
     "user": {
      "displayName": "venkatavarun nelakuditi",
      "photoUrl": "https://lh3.googleusercontent.com/a/default-user=s64",
      "userId": "09823158079456519085"
     },
     "user_tz": 360
    },
    "id": "-tqnXwhHG5OP"
   },
   "outputs": [],
   "source": [
    "dataSet=sentimentcategoryDataSet.toPandas()"
   ]
  },
  {
   "cell_type": "code",
   "execution_count": null,
   "metadata": {
    "colab": {
     "base_uri": "https://localhost:8080/",
     "height": 331
    },
    "executionInfo": {
     "elapsed": 367,
     "status": "ok",
     "timestamp": 1639772911341,
     "user": {
      "displayName": "venkatavarun nelakuditi",
      "photoUrl": "https://lh3.googleusercontent.com/a/default-user=s64",
      "userId": "09823158079456519085"
     },
     "user_tz": 360
    },
    "id": "BT_gcevZDQiX",
    "outputId": "08e0e827-654c-4258-8414-b54d7d18e7cc"
   },
   "outputs": [],
   "source": [
    "\n",
    "sentimentplot = dataSet.groupby(['_c2','Sentiment']).Sentiment.count().unstack()\n",
    "\n",
    "sentimentplot.plot(kind='bar')"
   ]
  },
  {
   "cell_type": "code",
   "execution_count": null,
   "metadata": {
    "colab": {
     "base_uri": "https://localhost:8080/",
     "height": 327
    },
    "executionInfo": {
     "elapsed": 12504,
     "status": "ok",
     "timestamp": 1639773017174,
     "user": {
      "displayName": "venkatavarun nelakuditi",
      "photoUrl": "https://lh3.googleusercontent.com/a/default-user=s64",
      "userId": "09823158079456519085"
     },
     "user_tz": 360
    },
    "id": "o1mGS_4MlIuN",
    "outputId": "ad41255e-e842-4e6e-b82f-6beba83116c0"
   },
   "outputs": [],
   "source": [
    "query_2_2_source=sentimentcategoryDataSet\n",
    "print(query_2_2_source.count())\n",
    "query_2_2_list = query_2_2_source.select('_c0').collect()\n",
    "hashtags=\" \"   \n",
    "for item in query_2_2_list:\n",
    "    hashtags = hashtags + str(item._c0).strip()\n",
    "from wordcloud import WordCloud    \n",
    "wordcloud = WordCloud().generate(hashtags)\n",
    "\n",
    "plt.figure( figsize = (10, 10))\n",
    "plt.imshow(wordcloud, interpolation='bilinear')\n",
    "plt.axis(\"off\")\n",
    "plt.show()"
   ]
  },
  {
   "cell_type": "code",
   "execution_count": null,
   "metadata": {
    "colab": {
     "base_uri": "https://localhost:8080/",
     "height": 327
    },
    "executionInfo": {
     "elapsed": 9643,
     "status": "ok",
     "timestamp": 1639773123072,
     "user": {
      "displayName": "venkatavarun nelakuditi",
      "photoUrl": "https://lh3.googleusercontent.com/a/default-user=s64",
      "userId": "09823158079456519085"
     },
     "user_tz": 360
    },
    "id": "NiJRYjNY9-id",
    "outputId": "f4ce7c66-8b41-4473-ee61-d8ac969a3693"
   },
   "outputs": [],
   "source": [
    "query_2_2_source=sentimentcategoryDataSet.filter(sentimentcategoryDataSet[\"_c2\"] == 'tech')\n",
    "print(query_2_2_source.count())\n",
    "query_2_2_list = query_2_2_source.select('_c0').collect()\n",
    "hashtags=\" \"   \n",
    "for item in query_2_2_list:\n",
    "    hashtags = hashtags +str(item._c0).strip()\n",
    "from wordcloud import WordCloud    \n",
    "wordcloud = WordCloud().generate(hashtags)\n",
    "\n",
    "plt.figure( figsize = (10, 10))\n",
    "plt.imshow(wordcloud, interpolation='bilinear')\n",
    "plt.axis(\"off\")\n",
    "plt.show()"
   ]
  },
  {
   "cell_type": "code",
   "execution_count": null,
   "metadata": {
    "colab": {
     "base_uri": "https://localhost:8080/",
     "height": 327
    },
    "executionInfo": {
     "elapsed": 5883,
     "status": "ok",
     "timestamp": 1639773240728,
     "user": {
      "displayName": "venkatavarun nelakuditi",
      "photoUrl": "https://lh3.googleusercontent.com/a/default-user=s64",
      "userId": "09823158079456519085"
     },
     "user_tz": 360
    },
    "id": "ydC6xekDjI0B",
    "outputId": "5c75310d-6da6-406a-8aae-a32bded27f79"
   },
   "outputs": [],
   "source": [
    "query_2_2_source=sentimentcategoryDataSet.filter(sentimentcategoryDataSet[\"_c2\"] == 'political')\n",
    "print(query_2_2_source.count())\n",
    "query_2_2_list = query_2_2_source.select('_c0').collect()\n",
    "hashtags=\" \"   \n",
    "for item in query_2_2_list:\n",
    "    hashtags = hashtags + str(item._c0).strip()\n",
    "from wordcloud import WordCloud    \n",
    "wordcloud = WordCloud().generate(hashtags)\n",
    "\n",
    "plt.figure( figsize = (10, 10))\n",
    "plt.imshow(wordcloud, interpolation='bilinear')\n",
    "plt.axis(\"off\")\n",
    "plt.show()"
   ]
  },
  {
   "cell_type": "code",
   "execution_count": null,
   "metadata": {
    "colab": {
     "base_uri": "https://localhost:8080/",
     "height": 327
    },
    "executionInfo": {
     "elapsed": 5579,
     "status": "ok",
     "timestamp": 1639773276186,
     "user": {
      "displayName": "venkatavarun nelakuditi",
      "photoUrl": "https://lh3.googleusercontent.com/a/default-user=s64",
      "userId": "09823158079456519085"
     },
     "user_tz": 360
    },
    "id": "2lmKgDFf_Fuq",
    "outputId": "f92b3428-1a65-4ecb-9302-61433596728c"
   },
   "outputs": [],
   "source": [
    "#bussiness\n",
    "query_2_1_source=sentimentcategoryDataSet.filter(sentimentcategoryDataSet[\"_c2\"] == 'business')\n",
    "print(query_2_1_source.count())\n",
    "query_2_1_list = query_2_1_source.select('_c0').collect()\n",
    "hashtags=\" \"   \n",
    "for item in query_2_1_list:\n",
    "    hashtags = hashtags + str(item._c0).strip()\n",
    "from wordcloud import WordCloud    \n",
    "wordcloud = WordCloud().generate(hashtags)\n",
    "\n",
    "plt.figure( figsize = (10, 10))\n",
    "plt.imshow(wordcloud, interpolation='bilinear')\n",
    "plt.axis(\"off\")\n",
    "plt.show()"
   ]
  },
  {
   "cell_type": "code",
   "execution_count": null,
   "metadata": {
    "executionInfo": {
     "elapsed": 78,
     "status": "ok",
     "timestamp": 1639773405965,
     "user": {
      "displayName": "venkatavarun nelakuditi",
      "photoUrl": "https://lh3.googleusercontent.com/a/default-user=s64",
      "userId": "09823158079456519085"
     },
     "user_tz": 360
    },
    "id": "0_6--Vq_IVJz"
   },
   "outputs": [],
   "source": [
    "query_twitter_Tech = sql_context.sql(\"SELECT  *  FROM tweets WHERE _c0 Like '%twitter%' and _c1='elonmusk' \")"
   ]
  },
  {
   "cell_type": "code",
   "execution_count": null,
   "metadata": {
    "colab": {
     "base_uri": "https://localhost:8080/"
    },
    "executionInfo": {
     "elapsed": 1521,
     "status": "ok",
     "timestamp": 1639773408862,
     "user": {
      "displayName": "venkatavarun nelakuditi",
      "photoUrl": "https://lh3.googleusercontent.com/a/default-user=s64",
      "userId": "09823158079456519085"
     },
     "user_tz": 360
    },
    "id": "VblordjTNuoX",
    "outputId": "2b19ffdd-823e-4435-b121-877eae51fd84"
   },
   "outputs": [],
   "source": [
    "query_twitter_Tech.show(5,truncate=False)"
   ]
  },
  {
   "cell_type": "code",
   "execution_count": null,
   "metadata": {
    "id": "WPBxqxjKOj-O"
   },
   "outputs": [],
   "source": [
    "from pyspark.sql.functions import col\n",
    "from pyspark.sql.functions import when\n",
    "query_twitter_Tech = query_twitter_Tech.select(col(\"_c2\").alias(\"Sentiment\"),col(\"_c1\"),col(\"_c0\"))"
   ]
  },
  {
   "cell_type": "code",
   "execution_count": null,
   "metadata": {
    "id": "nmXqzID0OamQ"
   },
   "outputs": [],
   "source": [
    "query_twitter_Tech=query_twitter_Tech.withColumn(\"Sentiment\", when(col(\"Sentiment\") == 0, \"Negitive\").otherwise(\"Positive\"))"
   ]
  },
  {
   "cell_type": "code",
   "execution_count": null,
   "metadata": {
    "colab": {
     "base_uri": "https://localhost:8080/",
     "height": 283
    },
    "executionInfo": {
     "elapsed": 2588,
     "status": "ok",
     "timestamp": 1638905520751,
     "user": {
      "displayName": "venkatavarun nelakuditi",
      "photoUrl": "https://lh3.googleusercontent.com/a/default-user=s64",
      "userId": "09823158079456519085"
     },
     "user_tz": 360
    },
    "id": "kcf3WvR_OEfu",
    "outputId": "6157f510-784a-4554-9334-8a16f9a8c8e9"
   },
   "outputs": [],
   "source": [
    "twittertech=query_twitter_Tech.count()\n",
    "query = query_twitter_Tech.toPandas()\n",
    "print(query.columns)\n",
    "query.Sentiment.value_counts().plot(kind='pie', autopct='%2.0f%%', colors=[ \"red\",\"green\"])"
   ]
  },
  {
   "cell_type": "code",
   "execution_count": null,
   "metadata": {
    "id": "1-ChN9pOYh-E"
   },
   "outputs": [],
   "source": [
    "twittertech=query_twitter_Tech.count()"
   ]
  },
  {
   "cell_type": "code",
   "execution_count": null,
   "metadata": {
    "colab": {
     "base_uri": "https://localhost:8080/",
     "height": 283
    },
    "executionInfo": {
     "elapsed": 2223,
     "status": "ok",
     "timestamp": 1639022574198,
     "user": {
      "displayName": "venkatavarun nelakuditi",
      "photoUrl": "https://lh3.googleusercontent.com/a/default-user=s64",
      "userId": "09823158079456519085"
     },
     "user_tz": 360
    },
    "id": "hwv5nBmO_dft",
    "outputId": "40ff2ea6-862e-4e23-b729-0127be31ef75"
   },
   "outputs": [],
   "source": [
    "\n",
    "query_amp_Tech = sql_context.sql(\"SELECT  *  FROM tweets WHERE _c0 Like '%cloud%' and _c1='tech' \")\n",
    "query_amp_Tech = query_amp_Tech.select(col(\"_c2\").alias(\"Sentiment\"),col(\"_c1\"),col(\"_c0\"))\n",
    "query_amp_Tech=query_amp_Tech.withColumn(\"Sentiment\", when(col(\"Sentiment\") == 0, \"Negitive\").otherwise(\"Positive\"))\n",
    "querytech=query_amp_Tech.count()\n",
    "query = query_amp_Tech.toPandas()\n",
    "print(query.columns)\n",
    "query.Sentiment.value_counts().plot(kind='pie', autopct='%1.0f%%', colors=[ \"red\",\"green\"])"
   ]
  },
  {
   "cell_type": "code",
   "execution_count": null,
   "metadata": {
    "colab": {
     "base_uri": "https://localhost:8080/",
     "height": 283
    },
    "executionInfo": {
     "elapsed": 2451,
     "status": "ok",
     "timestamp": 1639022378261,
     "user": {
      "displayName": "venkatavarun nelakuditi",
      "photoUrl": "https://lh3.googleusercontent.com/a/default-user=s64",
      "userId": "09823158079456519085"
     },
     "user_tz": 360
    },
    "id": "PwYf9gE8Q_CQ",
    "outputId": "d0d346b5-786e-4091-a9a7-6d7fe65ee58a"
   },
   "outputs": [],
   "source": [
    "query_one_Tech = sql_context.sql(\"SELECT  *  FROM tweets WHERE _c0 Like '%one%' and _c1='tech' \")\n",
    "query_one_Tech = query_one_Tech.select(col(\"_c2\").alias(\"Sentiment\"),col(\"_c1\"),col(\"_c0\"))\n",
    "query_one_Tech=query_one_Tech.withColumn(\"Sentiment\", when(col(\"Sentiment\") == 0, \"Negitive\").otherwise(\"Positive\"))\n",
    "onetech=query_one_Tech.count()\n",
    "query = query_one_Tech.toPandas()\n",
    "print(query.columns)\n",
    "query.Sentiment.value_counts().plot(kind='pie', autopct='%1.0f%%', colors=[ \"red\",\"green\"])"
   ]
  },
  {
   "cell_type": "code",
   "execution_count": null,
   "metadata": {
    "colab": {
     "base_uri": "https://localhost:8080/",
     "height": 283
    },
    "executionInfo": {
     "elapsed": 2371,
     "status": "ok",
     "timestamp": 1639022380629,
     "user": {
      "displayName": "venkatavarun nelakuditi",
      "photoUrl": "https://lh3.googleusercontent.com/a/default-user=s64",
      "userId": "09823158079456519085"
     },
     "user_tz": 360
    },
    "id": "h0sOxP5lSCYx",
    "outputId": "36bbebab-e0a5-4ac3-bdd1-06e4b18b038c"
   },
   "outputs": [],
   "source": [
    "query_one_Tech = sql_context.sql(\"SELECT  *  FROM tweets WHERE _c0 Like '%new%' and _c1='tech' \")\n",
    "query_one_Tech = query_one_Tech.select(col(\"_c2\").alias(\"Sentiment\"),col(\"_c1\"),col(\"_c0\"))\n",
    "query_one_Tech=query_one_Tech.withColumn(\"Sentiment\", when(col(\"Sentiment\") == 0, \"Negitive\").otherwise(\"Positive\"))\n",
    "newtech=query_one_Tech.count()\n",
    "query = query_one_Tech.toPandas()\n",
    "print(query.columns)\n",
    "query.Sentiment.value_counts().plot(kind='pie', autopct='%1.0f%%', colors=[ \"red\",\"green\"])"
   ]
  },
  {
   "cell_type": "code",
   "execution_count": null,
   "metadata": {
    "colab": {
     "base_uri": "https://localhost:8080/",
     "height": 283
    },
    "executionInfo": {
     "elapsed": 2121,
     "status": "ok",
     "timestamp": 1639022382746,
     "user": {
      "displayName": "venkatavarun nelakuditi",
      "photoUrl": "https://lh3.googleusercontent.com/a/default-user=s64",
      "userId": "09823158079456519085"
     },
     "user_tz": 360
    },
    "id": "sWE_eo6oSVBp",
    "outputId": "4577f501-e367-4cd4-c2ee-d6282a63a8fa"
   },
   "outputs": [],
   "source": [
    "query_one_Tech = sql_context.sql(\"SELECT  *  FROM tweets WHERE _c0 Like '%make%' and _c1='tech' \")\n",
    "query_one_Tech = query_one_Tech.select(col(\"_c2\").alias(\"Sentiment\"),col(\"_c1\"),col(\"_c0\"))\n",
    "query_one_Tech=query_one_Tech.withColumn(\"Sentiment\", when(col(\"Sentiment\") == 0, \"Negitive\").otherwise(\"Positive\"))\n",
    "maketech=query_one_Tech.count()\n",
    "query = query_one_Tech.toPandas()\n",
    "\n",
    "print(query.columns)\n",
    "query.Sentiment.value_counts().plot(kind='pie', autopct='%1.0f%%', colors=[ \"red\",\"green\"])"
   ]
  },
  {
   "cell_type": "code",
   "execution_count": null,
   "metadata": {
    "colab": {
     "base_uri": "https://localhost:8080/"
    },
    "executionInfo": {
     "elapsed": 5,
     "status": "ok",
     "timestamp": 1639022382746,
     "user": {
      "displayName": "venkatavarun nelakuditi",
      "photoUrl": "https://lh3.googleusercontent.com/a/default-user=s64",
      "userId": "09823158079456519085"
     },
     "user_tz": 360
    },
    "id": "MIcZ7uRkYAXq",
    "outputId": "19b64230-7624-4d79-db18-3fb57683548d"
   },
   "outputs": [],
   "source": [
    "print(twittertech)\n",
    "print(maketech)\n",
    "print(newtech)\n",
    "print(onetech)\n",
    "print(querytech)"
   ]
  },
  {
   "cell_type": "code",
   "execution_count": null,
   "metadata": {
    "colab": {
     "base_uri": "https://localhost:8080/",
     "height": 336
    },
    "executionInfo": {
     "elapsed": 110,
     "status": "ok",
     "timestamp": 1639022382987,
     "user": {
      "displayName": "venkatavarun nelakuditi",
      "photoUrl": "https://lh3.googleusercontent.com/a/default-user=s64",
      "userId": "09823158079456519085"
     },
     "user_tz": 360
    },
    "id": "eBwoBEA5ZsXc",
    "outputId": "3821867c-bc63-4550-a7de-346c04b4a6ba"
   },
   "outputs": [],
   "source": [
    "import matplotlib.pyplot as plt\n",
    "fig = plt.figure()\n",
    "ax = fig.add_axes([0,0,1,1])\n",
    "x = [\"one\",\"new\",\"amp\",\"twitter\",\"make\"]\n",
    "y = [3206,1086,1002,704,696];\n",
    "ax.bar(x,y)\n",
    "plt.show()"
   ]
  }
 ],
 "metadata": {
  "colab": {
   "authorship_tag": "ABX9TyMXRh4Izjl3KcmFm2jorjB+",
   "name": "analysisOfLiveData.ipynb",
   "provenance": []
  },
  "kernelspec": {
   "display_name": "Python 3 (ipykernel)",
   "language": "python",
   "name": "python3"
  },
  "language_info": {
   "codemirror_mode": {
    "name": "ipython",
    "version": 3
   },
   "file_extension": ".py",
   "mimetype": "text/x-python",
   "name": "python",
   "nbconvert_exporter": "python",
   "pygments_lexer": "ipython3",
   "version": "3.9.7"
  }
 },
 "nbformat": 4,
 "nbformat_minor": 1
}
