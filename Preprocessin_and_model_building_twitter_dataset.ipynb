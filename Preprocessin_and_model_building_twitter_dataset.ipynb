{
 "cells": [
  {
   "cell_type": "code",
   "execution_count": 1,
   "metadata": {
    "colab": {
     "base_uri": "https://localhost:8080/"
    },
    "executionInfo": {
     "elapsed": 51019,
     "status": "ok",
     "timestamp": 1639020850906,
     "user": {
      "displayName": "venkatavarun nelakuditi",
      "photoUrl": "https://lh3.googleusercontent.com/a/default-user=s64",
      "userId": "09823158079456519085"
     },
     "user_tz": 360
    },
    "id": "srFt1lqjAqbb",
    "outputId": "f053bccc-b61a-4905-c030-1c94c04d04e7"
   },
   "outputs": [
    {
     "name": "stdout",
     "output_type": "stream",
     "text": [
      "Collecting pyspark\n",
      "  Downloading pyspark-3.2.0.tar.gz (281.3 MB)\n",
      "\u001b[K     |████████████████████████████████| 281.3 MB 40 kB/s \n",
      "\u001b[?25hCollecting py4j==0.10.9.2\n",
      "  Downloading py4j-0.10.9.2-py2.py3-none-any.whl (198 kB)\n",
      "\u001b[K     |████████████████████████████████| 198 kB 67.7 MB/s \n",
      "\u001b[?25hBuilding wheels for collected packages: pyspark\n",
      "  Building wheel for pyspark (setup.py) ... \u001b[?25l\u001b[?25hdone\n",
      "  Created wheel for pyspark: filename=pyspark-3.2.0-py2.py3-none-any.whl size=281805912 sha256=dfb31a8c323573b02393737c10e1399b85cbf9611cf06d62d493cb0fcaafa796\n",
      "  Stored in directory: /root/.cache/pip/wheels/0b/de/d2/9be5d59d7331c6c2a7c1b6d1a4f463ce107332b1ecd4e80718\n",
      "Successfully built pyspark\n",
      "Installing collected packages: py4j, pyspark\n",
      "Successfully installed py4j-0.10.9.2 pyspark-3.2.0\n"
     ]
    }
   ],
   "source": [
    "pip install pyspark"
   ]
  },
  {
   "cell_type": "code",
   "execution_count": 2,
   "metadata": {
    "colab": {
     "base_uri": "https://localhost:8080/"
    },
    "executionInfo": {
     "elapsed": 1237,
     "status": "ok",
     "timestamp": 1639020852502,
     "user": {
      "displayName": "venkatavarun nelakuditi",
      "photoUrl": "https://lh3.googleusercontent.com/a/default-user=s64",
      "userId": "09823158079456519085"
     },
     "user_tz": 360
    },
    "id": "ZW-GUfWdAlld",
    "outputId": "c6db68bc-3d3d-4350-bd21-db256bec024d"
   },
   "outputs": [
    {
     "name": "stdout",
     "output_type": "stream",
     "text": [
      "[nltk_data] Downloading package stopwords to /root/nltk_data...\n",
      "[nltk_data]   Unzipping corpora/stopwords.zip.\n"
     ]
    },
    {
     "data": {
      "text/plain": [
       "True"
      ]
     },
     "execution_count": 2,
     "metadata": {},
     "output_type": "execute_result"
    }
   ],
   "source": [
    "import pyspark as ps\n",
    "from pyspark.ml.feature import StopWordsRemover\n",
    "import nltk\n",
    "nltk.download(\"stopwords\")"
   ]
  },
  {
   "cell_type": "code",
   "execution_count": 3,
   "metadata": {
    "colab": {
     "base_uri": "https://localhost:8080/"
    },
    "executionInfo": {
     "elapsed": 191753,
     "status": "ok",
     "timestamp": 1639021045676,
     "user": {
      "displayName": "venkatavarun nelakuditi",
      "photoUrl": "https://lh3.googleusercontent.com/a/default-user=s64",
      "userId": "09823158079456519085"
     },
     "user_tz": 360
    },
    "id": "4WNbPmIz8QQM",
    "outputId": "e28f1261-8fb3-4709-fa8f-08959b46bfe8"
   },
   "outputs": [
    {
     "name": "stdout",
     "output_type": "stream",
     "text": [
      "Mounted at /content/gdrive\n"
     ]
    }
   ],
   "source": [
    "from google.colab import drive\n",
    "drive.mount('/content/gdrive')"
   ]
  },
  {
   "cell_type": "code",
   "execution_count": 4,
   "metadata": {
    "executionInfo": {
     "elapsed": 5,
     "status": "ok",
     "timestamp": 1639021046074,
     "user": {
      "displayName": "venkatavarun nelakuditi",
      "photoUrl": "https://lh3.googleusercontent.com/a/default-user=s64",
      "userId": "09823158079456519085"
     },
     "user_tz": 360
    },
    "id": "LZ9_l_RKAIC8"
   },
   "outputs": [],
   "source": [
    "twitter_file=\"/content/gdrive/MyDrive/Colab Notebooks/sentiment140.csv\""
   ]
  },
  {
   "cell_type": "code",
   "execution_count": 5,
   "metadata": {
    "executionInfo": {
     "elapsed": 5437,
     "status": "ok",
     "timestamp": 1639021051507,
     "user": {
      "displayName": "venkatavarun nelakuditi",
      "photoUrl": "https://lh3.googleusercontent.com/a/default-user=s64",
      "userId": "09823158079456519085"
     },
     "user_tz": 360
    },
    "id": "RoIT1JJeAf7A"
   },
   "outputs": [],
   "source": [
    "conf = ps.SparkConf().setAll([('spark.executor.memory', '16g'), ('spark.driver.memory', '16g')])\n",
    "#sc.stop()\n",
    "sc = ps.SparkContext(conf=conf)"
   ]
  },
  {
   "cell_type": "code",
   "execution_count": 6,
   "metadata": {
    "colab": {
     "base_uri": "https://localhost:8080/"
    },
    "executionInfo": {
     "elapsed": 155,
     "status": "ok",
     "timestamp": 1639021051660,
     "user": {
      "displayName": "venkatavarun nelakuditi",
      "photoUrl": "https://lh3.googleusercontent.com/a/default-user=s64",
      "userId": "09823158079456519085"
     },
     "user_tz": 360
    },
    "id": "_yi-uS5kBv7S",
    "outputId": "ec69f9fd-c66a-45f2-9c65-376fd7d7087b"
   },
   "outputs": [
    {
     "name": "stderr",
     "output_type": "stream",
     "text": [
      "/usr/local/lib/python3.7/dist-packages/pyspark/sql/context.py:79: FutureWarning: Deprecated in 3.0.0. Use SparkSession.builder.getOrCreate() instead.\n",
      "  FutureWarning\n"
     ]
    }
   ],
   "source": [
    "from pyspark.sql import SQLContext\n",
    "import pyspark.sql.functions as f\n",
    "sql_context = SQLContext(sc)\n",
    "\n",
    "\n"
   ]
  },
  {
   "cell_type": "code",
   "execution_count": 7,
   "metadata": {
    "colab": {
     "base_uri": "https://localhost:8080/"
    },
    "executionInfo": {
     "elapsed": 8069,
     "status": "ok",
     "timestamp": 1639021059727,
     "user": {
      "displayName": "venkatavarun nelakuditi",
      "photoUrl": "https://lh3.googleusercontent.com/a/default-user=s64",
      "userId": "09823158079456519085"
     },
     "user_tz": 360
    },
    "id": "lZftLfxaDVQA",
    "outputId": "35e35881-3bf3-4828-ad84-f1a9187286aa"
   },
   "outputs": [
    {
     "name": "stdout",
     "output_type": "stream",
     "text": [
      "+---+----------+--------------------+--------+---------------+--------------------+\n",
      "|_c0|       _c1|                 _c2|     _c3|            _c4|                 _c5|\n",
      "+---+----------+--------------------+--------+---------------+--------------------+\n",
      "|  0|1467810369|Mon Apr 06 22:19:...|NO_QUERY|_TheSpecialOne_|@switchfoot http:...|\n",
      "|  0|1467810672|Mon Apr 06 22:19:...|NO_QUERY|  scotthamilton|is upset that he ...|\n",
      "|  0|1467810917|Mon Apr 06 22:19:...|NO_QUERY|       mattycus|@Kenichan I dived...|\n",
      "|  0|1467811184|Mon Apr 06 22:19:...|NO_QUERY|        ElleCTF|my whole body fee...|\n",
      "|  0|1467811193|Mon Apr 06 22:19:...|NO_QUERY|         Karoli|@nationwideclass ...|\n",
      "|  0|1467811372|Mon Apr 06 22:20:...|NO_QUERY|       joy_wolf|@Kwesidei not the...|\n",
      "|  0|1467811592|Mon Apr 06 22:20:...|NO_QUERY|        mybirch|         Need a hug |\n",
      "|  0|1467811594|Mon Apr 06 22:20:...|NO_QUERY|           coZZ|@LOLTrish hey  lo...|\n",
      "|  0|1467811795|Mon Apr 06 22:20:...|NO_QUERY|2Hood4Hollywood|@Tatiana_K nope t...|\n",
      "|  0|1467812025|Mon Apr 06 22:20:...|NO_QUERY|        mimismo|@twittera que me ...|\n",
      "|  0|1467812416|Mon Apr 06 22:20:...|NO_QUERY| erinx3leannexo|spring break in p...|\n",
      "|  0|1467812579|Mon Apr 06 22:20:...|NO_QUERY|   pardonlauren|I just re-pierced...|\n",
      "|  0|1467812723|Mon Apr 06 22:20:...|NO_QUERY|           TLeC|@caregiving I cou...|\n",
      "|  0|1467812771|Mon Apr 06 22:20:...|NO_QUERY|robrobbierobert|@octolinz16 It it...|\n",
      "|  0|1467812784|Mon Apr 06 22:20:...|NO_QUERY|    bayofwolves|@smarrison i woul...|\n",
      "|  0|1467812799|Mon Apr 06 22:20:...|NO_QUERY|     HairByJess|@iamjazzyfizzle I...|\n",
      "|  0|1467812964|Mon Apr 06 22:20:...|NO_QUERY| lovesongwriter|Hollis' death sce...|\n",
      "|  0|1467813137|Mon Apr 06 22:20:...|NO_QUERY|       armotley|about to file taxes |\n",
      "|  0|1467813579|Mon Apr 06 22:20:...|NO_QUERY|     starkissed|@LettyA ahh ive a...|\n",
      "|  0|1467813782|Mon Apr 06 22:20:...|NO_QUERY|      gi_gi_bee|@FakerPattyPattz ...|\n",
      "+---+----------+--------------------+--------+---------------+--------------------+\n",
      "only showing top 20 rows\n",
      "\n"
     ]
    }
   ],
   "source": [
    "twitterDf = sql_context.read.format('com.databricks.spark.csv').option('header','false').option(\"delimiter\", \",\").load(twitter_file)\n",
    "\n",
    "twitterDf.show()"
   ]
  },
  {
   "cell_type": "code",
   "execution_count": 8,
   "metadata": {
    "executionInfo": {
     "elapsed": 329,
     "status": "ok",
     "timestamp": 1639021060054,
     "user": {
      "displayName": "venkatavarun nelakuditi",
      "photoUrl": "https://lh3.googleusercontent.com/a/default-user=s64",
      "userId": "09823158079456519085"
     },
     "user_tz": 360
    },
    "id": "fO5BmuVgHk-S"
   },
   "outputs": [],
   "source": [
    "from pyspark.sql.functions import regexp_replace\n",
    "\n",
    "twitterDf = twitterDf.withColumn(\"_c5\", regexp_replace(\"_c5\", \"@[A-Za-z0-9]+\", \"\"))\n",
    "twitterDf = twitterDf.withColumn(\"_c5\", regexp_replace(\"_c5\", \"(?:\\@|http?\\://|https?\\://|www)\\S+\", \"\"))\n",
    "#tw = tw.withColumn(\"Tweet\", regexp_replace(\"Tweet\", \"#[A-Za-z0-9]+\", \"\"))\n",
    "twitterDf = twitterDf.withColumn(\"_c5\", regexp_replace(\"_c5\", \"'\", \"\"))\n",
    "twitterDf = twitterDf.withColumn(\"_c5\", regexp_replace(\"_c5\", \"[^A-Za-z0-9]+\", \" \"))\n",
    "twitterDf = twitterDf.withColumn(\"_c5\", f.lower(f.col(\"_c5\")) )"
   ]
  },
  {
   "cell_type": "code",
   "execution_count": 9,
   "metadata": {
    "colab": {
     "base_uri": "https://localhost:8080/"
    },
    "executionInfo": {
     "elapsed": 18351,
     "status": "ok",
     "timestamp": 1639021078402,
     "user": {
      "displayName": "venkatavarun nelakuditi",
      "photoUrl": "https://lh3.googleusercontent.com/a/default-user=s64",
      "userId": "09823158079456519085"
     },
     "user_tz": 360
    },
    "id": "Hp3OjL-nZd8z",
    "outputId": "875c11c3-9e87-4f2e-f951-f95f8610d16f"
   },
   "outputs": [
    {
     "data": {
      "text/plain": [
       "[Row(_c0='4', _c1='2193601966', _c2='Tue Jun 16 08:40:49 PDT 2009', _c3='NO_QUERY', _c4='AmandaMarie1028', _c5='just woke up having no school is the best feeling ever '),\n",
       " Row(_c0='4', _c1='2193601969', _c2='Tue Jun 16 08:40:49 PDT 2009', _c3='NO_QUERY', _c4='TheWDBoards', _c5='thewdb com very cool to hear old walt interviews '),\n",
       " Row(_c0='4', _c1='2193601991', _c2='Tue Jun 16 08:40:49 PDT 2009', _c3='NO_QUERY', _c4='bpbabe', _c5='are you ready for your mojo makeover ask me for details '),\n",
       " Row(_c0='4', _c1='2193602064', _c2='Tue Jun 16 08:40:49 PDT 2009', _c3='NO_QUERY', _c4='tinydiamondz', _c5='happy 38th birthday to my boo of alll time tupac amaru shakur '),\n",
       " Row(_c0='4', _c1='2193602129', _c2='Tue Jun 16 08:40:50 PDT 2009', _c3='NO_QUERY', _c4='RyanTrevMorris', _c5='happy charitytuesday ')]"
      ]
     },
     "execution_count": 9,
     "metadata": {},
     "output_type": "execute_result"
    }
   ],
   "source": [
    "twitterDf.tail(5)"
   ]
  },
  {
   "cell_type": "code",
   "execution_count": 10,
   "metadata": {
    "executionInfo": {
     "elapsed": 5,
     "status": "ok",
     "timestamp": 1639021078403,
     "user": {
      "displayName": "venkatavarun nelakuditi",
      "photoUrl": "https://lh3.googleusercontent.com/a/default-user=s64",
      "userId": "09823158079456519085"
     },
     "user_tz": 360
    },
    "id": "Bw53ZLaqJSRv"
   },
   "outputs": [],
   "source": [
    "stopwordList = nltk.corpus.stopwords.words('english')"
   ]
  },
  {
   "cell_type": "code",
   "execution_count": 11,
   "metadata": {
    "executionInfo": {
     "elapsed": 4,
     "status": "ok",
     "timestamp": 1639021078403,
     "user": {
      "displayName": "venkatavarun nelakuditi",
      "photoUrl": "https://lh3.googleusercontent.com/a/default-user=s64",
      "userId": "09823158079456519085"
     },
     "user_tz": 360
    },
    "id": "8uuicxEd7i-n"
   },
   "outputs": [],
   "source": [
    "from pyspark.sql.types import DoubleType\n",
    "\n",
    "twitterDf = twitterDf.withColumn(\"_c0\", twitterDf[\"_c0\"].cast(DoubleType()))"
   ]
  },
  {
   "cell_type": "code",
   "execution_count": 12,
   "metadata": {
    "executionInfo": {
     "elapsed": 3,
     "status": "ok",
     "timestamp": 1639021078403,
     "user": {
      "displayName": "venkatavarun nelakuditi",
      "photoUrl": "https://lh3.googleusercontent.com/a/default-user=s64",
      "userId": "09823158079456519085"
     },
     "user_tz": 360
    },
    "id": "gLZJ6YtrVtQS"
   },
   "outputs": [],
   "source": [
    "\n",
    "trainDF, testDF = twitterDf.randomSplit([0.80, 0.20], seed=2000)"
   ]
  },
  {
   "cell_type": "code",
   "execution_count": 13,
   "metadata": {
    "colab": {
     "base_uri": "https://localhost:8080/"
    },
    "executionInfo": {
     "elapsed": 18347,
     "status": "ok",
     "timestamp": 1639021096747,
     "user": {
      "displayName": "venkatavarun nelakuditi",
      "photoUrl": "https://lh3.googleusercontent.com/a/default-user=s64",
      "userId": "09823158079456519085"
     },
     "user_tz": 360
    },
    "id": "HJDiUSLv0145",
    "outputId": "7e038223-6a46-4169-a83d-85d201b835cb"
   },
   "outputs": [
    {
     "name": "stdout",
     "output_type": "stream",
     "text": [
      "+---+----------+----------------------------+--------+---------------+----------------------------------------------------------------------------------------+\n",
      "|_c0|_c1       |_c2                         |_c3     |_c4            |_c5                                                                                     |\n",
      "+---+----------+----------------------------+--------+---------------+----------------------------------------------------------------------------------------+\n",
      "|0.0|1467812723|Mon Apr 06 22:20:19 PDT 2009|NO_QUERY|TLeC           | i couldnt bear to watch it and i thought the ua loss was embarrassing                  |\n",
      "|0.0|1467812771|Mon Apr 06 22:20:19 PDT 2009|NO_QUERY|robrobbierobert| it it counts idk why i did either you never talk to me anymore                         |\n",
      "|0.0|1467812799|Mon Apr 06 22:20:20 PDT 2009|NO_QUERY|HairByJess     | i wish i got to watch it with you i miss you and how was the premiere                  |\n",
      "|0.0|1467814119|Mon Apr 06 22:20:40 PDT 2009|NO_QUERY|cooliodoc      | barista i baked you a cake but i ated it                                               |\n",
      "|0.0|1467818020|Mon Apr 06 22:21:39 PDT 2009|NO_QUERY|itsanimesh     |really dont feel like getting up today but got to study to for tomorrows practical exam |\n",
      "+---+----------+----------------------------+--------+---------------+----------------------------------------------------------------------------------------+\n",
      "only showing top 5 rows\n",
      "\n"
     ]
    }
   ],
   "source": [
    "testDF.show(5,truncate=False)"
   ]
  },
  {
   "cell_type": "code",
   "execution_count": 14,
   "metadata": {
    "executionInfo": {
     "elapsed": 10,
     "status": "ok",
     "timestamp": 1639021096747,
     "user": {
      "displayName": "venkatavarun nelakuditi",
      "photoUrl": "https://lh3.googleusercontent.com/a/default-user=s64",
      "userId": "09823158079456519085"
     },
     "user_tz": 360
    },
    "id": "V68DoQx3VzCp"
   },
   "outputs": [],
   "source": [
    "from pyspark.ml.feature import HashingTF, IDF, Tokenizer, CountVectorizer\n",
    "from pyspark.ml.feature import StringIndexer\n",
    "from pyspark.ml import Pipeline\n",
    "from pyspark.ml.classification import LogisticRegression\n",
    "from pyspark.ml.evaluation import BinaryClassificationEvaluator"
   ]
  },
  {
   "cell_type": "code",
   "execution_count": 15,
   "metadata": {
    "executionInfo": {
     "elapsed": 54879,
     "status": "ok",
     "timestamp": 1639021151617,
     "user": {
      "displayName": "venkatavarun nelakuditi",
      "photoUrl": "https://lh3.googleusercontent.com/a/default-user=s64",
      "userId": "09823158079456519085"
     },
     "user_tz": 360
    },
    "id": "VgKh5XOKV3CB"
   },
   "outputs": [],
   "source": [
    "tokenizer = Tokenizer(inputCol=\"_c5\", outputCol=\"words\")\n",
    "stopwordremover=StopWordsRemover(inputCol=\"words\", outputCol=\"TweetWithStopwordsfree\")\n",
    "hashtf = HashingTF(numFeatures=2**16, inputCol=\"TweetWithStopwordsfree\", outputCol='tf')\n",
    "idf = IDF(inputCol='tf', outputCol=\"features\", minDocFreq=5) #minDocFreq: remove sparse terms\n",
    "#label_stringIdx = StringIndexer(inputCol = \"target\", outputCol = \"label\")\n",
    "pipeline = Pipeline(stages=[tokenizer,stopwordremover, hashtf, idf])\n",
    "\n",
    "pipelineFit = pipeline.fit(twitterDf)\n"
   ]
  },
  {
   "cell_type": "code",
   "execution_count": 16,
   "metadata": {
    "colab": {
     "base_uri": "https://localhost:8080/"
    },
    "executionInfo": {
     "elapsed": 15831,
     "status": "ok",
     "timestamp": 1639021167438,
     "user": {
      "displayName": "venkatavarun nelakuditi",
      "photoUrl": "https://lh3.googleusercontent.com/a/default-user=s64",
      "userId": "09823158079456519085"
     },
     "user_tz": 360
    },
    "id": "FhwM-KBdEQR6",
    "outputId": "0df870d2-e8c2-415a-cd4a-699071112d9d"
   },
   "outputs": [
    {
     "name": "stdout",
     "output_type": "stream",
     "text": [
      "+---+----------+--------------------+--------+---------------+--------------------+--------------------+----------------------+--------------------+--------------------+\n",
      "|_c0|       _c1|                 _c2|     _c3|            _c4|                 _c5|               words|TweetWithStopwordsfree|                  tf|            features|\n",
      "+---+----------+--------------------+--------+---------------+--------------------+--------------------+----------------------+--------------------+--------------------+\n",
      "|0.0|1467810369|Mon Apr 06 22:19:...|NO_QUERY|_TheSpecialOne_| a thats a bummer...|[, a, thats, a, b...|  [, thats, bummer,...|(65536,[10345,216...|(65536,[10345,216...|\n",
      "|0.0|1467810672|Mon Apr 06 22:19:...|NO_QUERY|  scotthamilton|is upset that he ...|[is, upset, that,...|  [upset, cant, upd...|(65536,[16064,193...|(65536,[16064,193...|\n",
      "|0.0|1467810917|Mon Apr 06 22:19:...|NO_QUERY|       mattycus| i dived many tim...|[, i, dived, many...|  [, dived, many, t...|(65536,[2548,2888...|(65536,[2548,2888...|\n",
      "|0.0|1467811184|Mon Apr 06 22:19:...|NO_QUERY|        ElleCTF|my whole body fee...|[my, whole, body,...|  [whole, body, fee...|(65536,[11650,151...|(65536,[11650,151...|\n",
      "|0.0|1467811193|Mon Apr 06 22:19:...|NO_QUERY|         Karoli| no its not behav...|[, no, its, not, ...|  [, behaving, im, ...|(65536,[1968,8538...|(65536,[1968,8538...|\n",
      "+---+----------+--------------------+--------+---------------+--------------------+--------------------+----------------------+--------------------+--------------------+\n",
      "only showing top 5 rows\n",
      "\n"
     ]
    }
   ],
   "source": [
    "trainDF = pipelineFit.transform(trainDF)\n",
    "testDF = pipelineFit.transform(testDF)\n",
    "trainDF.show(5)"
   ]
  },
  {
   "cell_type": "code",
   "execution_count": 17,
   "metadata": {
    "executionInfo": {
     "elapsed": 205491,
     "status": "ok",
     "timestamp": 1639021373350,
     "user": {
      "displayName": "venkatavarun nelakuditi",
      "photoUrl": "https://lh3.googleusercontent.com/a/default-user=s64",
      "userId": "09823158079456519085"
     },
     "user_tz": 360
    },
    "id": "DKkhc_p4lDrU"
   },
   "outputs": [],
   "source": [
    "from pyspark.ml.classification import LogisticRegression\n",
    "lr = LogisticRegression(maxIter=100)\n",
    "trainDF=trainDF.selectExpr(\"_c0 as label\", \"_c5 as text\",\"words\",\"TweetWithStopwordsfree\", \"tf\",\"features\")\n",
    "lrModel = lr.fit(trainDF)\n",
    "testDF=testDF.selectExpr(\"_c0 as label\", \"_c5 as text\",\"words\",\"TweetWithStopwordsfree\", \"tf\",\"features\")\n",
    "predictions = lrModel.transform(testDF)"
   ]
  },
  {
   "cell_type": "code",
   "execution_count": 18,
   "metadata": {
    "colab": {
     "base_uri": "https://localhost:8080/"
    },
    "executionInfo": {
     "elapsed": 15480,
     "status": "ok",
     "timestamp": 1639021388822,
     "user": {
      "displayName": "venkatavarun nelakuditi",
      "photoUrl": "https://lh3.googleusercontent.com/a/default-user=s64",
      "userId": "09823158079456519085"
     },
     "user_tz": 360
    },
    "id": "dSQN-Fp5mSu4",
    "outputId": "b8a9bf5a-be6a-454f-a9b1-cef04005ee37"
   },
   "outputs": [
    {
     "name": "stdout",
     "output_type": "stream",
     "text": [
      "+-----+--------------------+--------------------+----------------------+--------------------+--------------------+--------------------+--------------------+----------+\n",
      "|label|                text|               words|TweetWithStopwordsfree|                  tf|            features|       rawPrediction|         probability|prediction|\n",
      "+-----+--------------------+--------------------+----------------------+--------------------+--------------------+--------------------+--------------------+----------+\n",
      "|  0.0| i couldnt bear t...|[, i, couldnt, be...|  [, couldnt, bear,...|(65536,[513,8997,...|(65536,[513,8997,...|[9.30412012010187...|[0.92843932358713...|       0.0|\n",
      "|  0.0| it it counts idk...|[, it, it, counts...|  [, counts, idk, e...|(65536,[6589,1383...|(65536,[6589,1383...|[9.16107302381454...|[0.90692659025276...|       0.0|\n",
      "|  0.0| i wish i got to ...|[, i, wish, i, go...|  [, wish, got, wat...|(65536,[20719,292...|(65536,[20719,292...|[9.62126269400567...|[0.96072507588899...|       0.0|\n",
      "|  0.0| barista i baked ...|[, barista, i, ba...|  [, barista, baked...|(65536,[13007,425...|(65536,[13007,425...|[7.52225552892675...|[0.26860866848533...|       4.0|\n",
      "|  0.0|really dont feel ...|[really, dont, fe...|  [really, dont, fe...|(65536,[1328,3642...|(65536,[1328,3642...|[9.71663491977850...|[0.96732345996166...|       0.0|\n",
      "+-----+--------------------+--------------------+----------------------+--------------------+--------------------+--------------------+--------------------+----------+\n",
      "only showing top 5 rows\n",
      "\n"
     ]
    }
   ],
   "source": [
    "predictions.show(5)"
   ]
  },
  {
   "cell_type": "code",
   "execution_count": 19,
   "metadata": {
    "colab": {
     "base_uri": "https://localhost:8080/"
    },
    "executionInfo": {
     "elapsed": 31926,
     "status": "ok",
     "timestamp": 1639021420746,
     "user": {
      "displayName": "venkatavarun nelakuditi",
      "photoUrl": "https://lh3.googleusercontent.com/a/default-user=s64",
      "userId": "09823158079456519085"
     },
     "user_tz": 360
    },
    "id": "Yuqi-Qg4laU8",
    "outputId": "f03e657d-01e9-4bee-a4a5-6e268c9e5582"
   },
   "outputs": [
    {
     "data": {
      "text/plain": [
       "0.7703392688829602"
      ]
     },
     "execution_count": 19,
     "metadata": {},
     "output_type": "execute_result"
    }
   ],
   "source": [
    "\n",
    "from pyspark.ml.evaluation import MulticlassClassificationEvaluator\n",
    "\n",
    "\n",
    "evaluator = MulticlassClassificationEvaluator(predictionCol=\"prediction\")\n",
    "evaluator.evaluate(predictions)"
   ]
  },
  {
   "cell_type": "code",
   "execution_count": 21,
   "metadata": {
    "executionInfo": {
     "elapsed": 1268,
     "status": "ok",
     "timestamp": 1639021454825,
     "user": {
      "displayName": "venkatavarun nelakuditi",
      "photoUrl": "https://lh3.googleusercontent.com/a/default-user=s64",
      "userId": "09823158079456519085"
     },
     "user_tz": 360
    },
    "id": "HsmrXm6OnNqo"
   },
   "outputs": [],
   "source": [
    "tweets1 = sql_context.read.format('com.databricks.spark.csv').option('header','false').option(\"delimiter\", \",\").load('/content/gdrive/MyDrive/Colab Notebooks/BigDataProject/tuesdaycategoryPredictedDataset/categoryPredictedDataset0.csv')\n",
    "tweets2 = sql_context.read.format('com.databricks.spark.csv').option('header','false').option(\"delimiter\", \",\").load('/content/gdrive/MyDrive/Colab Notebooks/BigDataProject/tuesdaycategoryPredictedDataset/categoryPredictedDataset1.csv')\n",
    "tweets3 = sql_context.read.format('com.databricks.spark.csv').option('header','false').option(\"delimiter\", \",\").load('/content/gdrive/MyDrive/Colab Notebooks/BigDataProject/tuesdaycategoryPredictedDataset/categoryPredictedDataset2.csv')\n",
    "tweets4 = sql_context.read.format('com.databricks.spark.csv').option('header','false').option(\"delimiter\", \",\").load('/content/gdrive/MyDrive/Colab Notebooks/BigDataProject/tuesdaycategoryPredictedDataset/categoryPredictedDataset4.csv')"
   ]
  },
  {
   "cell_type": "code",
   "execution_count": 22,
   "metadata": {
    "colab": {
     "base_uri": "https://localhost:8080/"
    },
    "executionInfo": {
     "elapsed": 416,
     "status": "ok",
     "timestamp": 1639021457881,
     "user": {
      "displayName": "venkatavarun nelakuditi",
      "photoUrl": "https://lh3.googleusercontent.com/a/default-user=s64",
      "userId": "09823158079456519085"
     },
     "user_tz": 360
    },
    "id": "32YFgegLpARj",
    "outputId": "7f6a981f-6e1f-4d97-ca0c-cbb29ad252b0"
   },
   "outputs": [
    {
     "name": "stdout",
     "output_type": "stream",
     "text": [
      "+--------------------+-------------+\n",
      "|                 _c0|          _c1|\n",
      "+--------------------+-------------+\n",
      "|check out r kive ...|         tech|\n",
      "|craig and gizmo r...|        sport|\n",
      "|you have nothing ...|        sport|\n",
      "|if your group cha...|entertainment|\n",
      "|if i ever watch t...|         tech|\n",
      "|fortnite playing ...|     business|\n",
      "|i wanna play a ga...|        sport|\n",
      "|        36 years old|entertainment|\n",
      "|we cannoh replace...|    political|\n",
      "|all the stochasti...|    political|\n",
      "|such class and gr...|entertainment|\n",
      "|britain and the u...|        sport|\n",
      "|day 85 run 43 380...|        sport|\n",
      "|hand selected lik...|        sport|\n",
      "|we had productive...|     business|\n",
      "|neil lennon was a...|        sport|\n",
      "|     nanana cover by|entertainment|\n",
      "|this is their pla...|    political|\n",
      "|quality swag is a...|        sport|\n",
      "|trump s next coup...|    political|\n",
      "+--------------------+-------------+\n",
      "only showing top 20 rows\n",
      "\n",
      "+--------------------+-------------+\n",
      "|                 _c0|          _c1|\n",
      "+--------------------+-------------+\n",
      "|i m going to be i...|        sport|\n",
      "|biden s controver...|entertainment|\n",
      "|in case no one ha...|        sport|\n",
      "|jam tangan casio ...|     business|\n",
      "|ap b brbad ho ge phr|     business|\n",
      "|norris who still ...|        sport|\n",
      "|putin controls biden|     business|\n",
      "|he shrinks in big...|         tech|\n",
      "|i dunno what ever...|        sport|\n",
      "|omg tears in my eyes|entertainment|\n",
      "|        done join dc|    political|\n",
      "|             explain|        sport|\n",
      "|please support me...|        sport|\n",
      "|ashes 2021 joe ro...|        sport|\n",
      "|all my vids are o...|         tech|\n",
      "|croc s world 60 o...|         tech|\n",
      "|the unvaccinated ...|    political|\n",
      "|feel good story o...|entertainment|\n",
      "|our nation is bei...|    political|\n",
      "|          still here|        sport|\n",
      "+--------------------+-------------+\n",
      "only showing top 20 rows\n",
      "\n",
      "+--------------------+-------------+\n",
      "|                 _c0|          _c1|\n",
      "+--------------------+-------------+\n",
      "|the latest the st...|         tech|\n",
      "|umemaliza ku test...|        sport|\n",
      "|wicks hello frien...|         tech|\n",
      "|qcom is another o...|        sport|\n",
      "|twt my darling yo...|     business|\n",
      "|you had to be the...|        sport|\n",
      "|still not over th...|        sport|\n",
      "|wow that s how yo...|    political|\n",
      "|in zimbabwe we ha...|    political|\n",
      "|the next two game...|entertainment|\n",
      "|              cringe|        sport|\n",
      "|end of year melt ...|         tech|\n",
      "|teddi please try ...|    political|\n",
      "|4d0c0562 battle i...|    political|\n",
      "|h e r i stole thi...|        sport|\n",
      "|personal lance bu...|         tech|\n",
      "|exorcism of the d...|        sport|\n",
      "|              oh man|entertainment|\n",
      "|hello can someone...|         tech|\n",
      "|i am absolutely i...|        sport|\n",
      "+--------------------+-------------+\n",
      "only showing top 20 rows\n",
      "\n",
      "+--------------------+-------------+\n",
      "|                 _c0|          _c1|\n",
      "+--------------------+-------------+\n",
      "|hahaha stole this...|        sport|\n",
      "|meadows falsely c...|    political|\n",
      "|       in other news|     business|\n",
      "| thank you my friend|entertainment|\n",
      "|              indeed|    political|\n",
      "|i really do love ...|entertainment|\n",
      "|this guy is under...|entertainment|\n",
      "|johnson 14 bro yo...|        sport|\n",
      "|i see a cocoyea b...|        sport|\n",
      "|helloooo this is ...|     business|\n",
      "|       there is hope|        sport|\n",
      "|this probably isn...|entertainment|\n",
      "|manifesting wins ...|    political|\n",
      "|herbert not even ...|    political|\n",
      "|whitebois belong ...|        sport|\n",
      "|this is making me...|entertainment|\n",
      "|                mood|        sport|\n",
      "|you have to be a ...|entertainment|\n",
      "|wow you did it co...|entertainment|\n",
      "|no man that s not...|        sport|\n",
      "+--------------------+-------------+\n",
      "only showing top 20 rows\n",
      "\n"
     ]
    }
   ],
   "source": [
    "tweets1.show()\n",
    "tweets2.show()\n",
    "tweets3.show()\n",
    "tweets4.show()"
   ]
  },
  {
   "cell_type": "code",
   "execution_count": 23,
   "metadata": {
    "executionInfo": {
     "elapsed": 139,
     "status": "ok",
     "timestamp": 1639021474154,
     "user": {
      "displayName": "venkatavarun nelakuditi",
      "photoUrl": "https://lh3.googleusercontent.com/a/default-user=s64",
      "userId": "09823158079456519085"
     },
     "user_tz": 360
    },
    "id": "6dXzzLXCnSbI"
   },
   "outputs": [],
   "source": [
    "import functools\n",
    "  \n",
    "def unionAll(dfs):\n",
    "    return functools.reduce(lambda df1, df2: df1.union(df2.select(df1.columns)), dfs)"
   ]
  },
  {
   "cell_type": "code",
   "execution_count": 24,
   "metadata": {
    "colab": {
     "base_uri": "https://localhost:8080/"
    },
    "executionInfo": {
     "elapsed": 2019,
     "status": "ok",
     "timestamp": 1639021477902,
     "user": {
      "displayName": "venkatavarun nelakuditi",
      "photoUrl": "https://lh3.googleusercontent.com/a/default-user=s64",
      "userId": "09823158079456519085"
     },
     "user_tz": 360
    },
    "id": "LfG_cKwHnUl4",
    "outputId": "d1a25d7f-6701-4e91-effe-f6d809349e43"
   },
   "outputs": [
    {
     "name": "stdout",
     "output_type": "stream",
     "text": [
      "187058\n"
     ]
    }
   ],
   "source": [
    "tweets = unionAll([tweets2, tweets1])\n",
    "print(tweets.count())"
   ]
  },
  {
   "cell_type": "code",
   "execution_count": 25,
   "metadata": {
    "colab": {
     "base_uri": "https://localhost:8080/"
    },
    "executionInfo": {
     "elapsed": 1690,
     "status": "ok",
     "timestamp": 1639021481473,
     "user": {
      "displayName": "venkatavarun nelakuditi",
      "photoUrl": "https://lh3.googleusercontent.com/a/default-user=s64",
      "userId": "09823158079456519085"
     },
     "user_tz": 360
    },
    "id": "FV3LUmRWpOjD",
    "outputId": "0e6c9f70-69e2-4a88-d2e5-4dcc64b8bd69"
   },
   "outputs": [
    {
     "name": "stdout",
     "output_type": "stream",
     "text": [
      "315168\n"
     ]
    }
   ],
   "source": [
    "tweets = unionAll([tweets, tweets3])\n",
    "print(tweets.count())"
   ]
  },
  {
   "cell_type": "code",
   "execution_count": 26,
   "metadata": {
    "colab": {
     "base_uri": "https://localhost:8080/"
    },
    "executionInfo": {
     "elapsed": 1492,
     "status": "ok",
     "timestamp": 1639021486127,
     "user": {
      "displayName": "venkatavarun nelakuditi",
      "photoUrl": "https://lh3.googleusercontent.com/a/default-user=s64",
      "userId": "09823158079456519085"
     },
     "user_tz": 360
    },
    "id": "zVFv-LysQ_-l",
    "outputId": "414a7ff3-7f16-48ba-b5d3-1cb9b9459167"
   },
   "outputs": [
    {
     "name": "stdout",
     "output_type": "stream",
     "text": [
      "364322\n"
     ]
    }
   ],
   "source": [
    "tweets = unionAll([tweets, tweets4])\n",
    "print(tweets.count())"
   ]
  },
  {
   "cell_type": "code",
   "execution_count": 27,
   "metadata": {
    "colab": {
     "base_uri": "https://localhost:8080/"
    },
    "executionInfo": {
     "elapsed": 272,
     "status": "ok",
     "timestamp": 1639021489652,
     "user": {
      "displayName": "venkatavarun nelakuditi",
      "photoUrl": "https://lh3.googleusercontent.com/a/default-user=s64",
      "userId": "09823158079456519085"
     },
     "user_tz": 360
    },
    "id": "qwgh_h4CL92C",
    "outputId": "3bfc1d3b-7878-4178-ef01-7171b191d9c6"
   },
   "outputs": [
    {
     "name": "stdout",
     "output_type": "stream",
     "text": [
      "+--------------------+-------------+\n",
      "|                 _c0|          _c1|\n",
      "+--------------------+-------------+\n",
      "|i m going to be i...|        sport|\n",
      "|biden s controver...|entertainment|\n",
      "|in case no one ha...|        sport|\n",
      "|jam tangan casio ...|     business|\n",
      "|ap b brbad ho ge phr|     business|\n",
      "|norris who still ...|        sport|\n",
      "|putin controls biden|     business|\n",
      "|he shrinks in big...|         tech|\n",
      "|i dunno what ever...|        sport|\n",
      "|omg tears in my eyes|entertainment|\n",
      "|        done join dc|    political|\n",
      "|             explain|        sport|\n",
      "|please support me...|        sport|\n",
      "|ashes 2021 joe ro...|        sport|\n",
      "|all my vids are o...|         tech|\n",
      "|croc s world 60 o...|         tech|\n",
      "|the unvaccinated ...|    political|\n",
      "|feel good story o...|entertainment|\n",
      "|our nation is bei...|    political|\n",
      "|          still here|        sport|\n",
      "+--------------------+-------------+\n",
      "only showing top 20 rows\n",
      "\n"
     ]
    }
   ],
   "source": [
    "tweets.show()"
   ]
  },
  {
   "cell_type": "code",
   "execution_count": 28,
   "metadata": {
    "executionInfo": {
     "elapsed": 137,
     "status": "ok",
     "timestamp": 1639021521595,
     "user": {
      "displayName": "venkatavarun nelakuditi",
      "photoUrl": "https://lh3.googleusercontent.com/a/default-user=s64",
      "userId": "09823158079456519085"
     },
     "user_tz": 360
    },
    "id": "VbXMMjxapnWF"
   },
   "outputs": [],
   "source": [
    "tweets = tweets.selectExpr(\"_c0 as _c5\",\"_c1 as catlabel\")"
   ]
  },
  {
   "cell_type": "code",
   "execution_count": 29,
   "metadata": {
    "colab": {
     "base_uri": "https://localhost:8080/"
    },
    "executionInfo": {
     "elapsed": 261,
     "status": "ok",
     "timestamp": 1639021522488,
     "user": {
      "displayName": "venkatavarun nelakuditi",
      "photoUrl": "https://lh3.googleusercontent.com/a/default-user=s64",
      "userId": "09823158079456519085"
     },
     "user_tz": 360
    },
    "id": "ujiBmGyhp2i1",
    "outputId": "9db9795a-774e-4092-a7d5-6933bf4d186b"
   },
   "outputs": [
    {
     "name": "stdout",
     "output_type": "stream",
     "text": [
      "+--------------------+-------------+\n",
      "|                 _c5|     catlabel|\n",
      "+--------------------+-------------+\n",
      "|i m going to be i...|        sport|\n",
      "|biden s controver...|entertainment|\n",
      "|in case no one ha...|        sport|\n",
      "|jam tangan casio ...|     business|\n",
      "|ap b brbad ho ge phr|     business|\n",
      "|norris who still ...|        sport|\n",
      "|putin controls biden|     business|\n",
      "|he shrinks in big...|         tech|\n",
      "|i dunno what ever...|        sport|\n",
      "|omg tears in my eyes|entertainment|\n",
      "|        done join dc|    political|\n",
      "|             explain|        sport|\n",
      "|please support me...|        sport|\n",
      "|ashes 2021 joe ro...|        sport|\n",
      "|all my vids are o...|         tech|\n",
      "|croc s world 60 o...|         tech|\n",
      "|the unvaccinated ...|    political|\n",
      "|feel good story o...|entertainment|\n",
      "|our nation is bei...|    political|\n",
      "|          still here|        sport|\n",
      "+--------------------+-------------+\n",
      "only showing top 20 rows\n",
      "\n"
     ]
    }
   ],
   "source": [
    "tweets.show()"
   ]
  },
  {
   "cell_type": "code",
   "execution_count": 30,
   "metadata": {
    "executionInfo": {
     "elapsed": 260,
     "status": "ok",
     "timestamp": 1639021528420,
     "user": {
      "displayName": "venkatavarun nelakuditi",
      "photoUrl": "https://lh3.googleusercontent.com/a/default-user=s64",
      "userId": "09823158079456519085"
     },
     "user_tz": 360
    },
    "id": "8tOikkOYqzTO"
   },
   "outputs": [],
   "source": [
    "sentimantpredictions = pipelineFit.transform(tweets)"
   ]
  },
  {
   "cell_type": "code",
   "execution_count": 31,
   "metadata": {
    "executionInfo": {
     "elapsed": 119,
     "status": "ok",
     "timestamp": 1639021529161,
     "user": {
      "displayName": "venkatavarun nelakuditi",
      "photoUrl": "https://lh3.googleusercontent.com/a/default-user=s64",
      "userId": "09823158079456519085"
     },
     "user_tz": 360
    },
    "id": "_jLa_T9-qdNu"
   },
   "outputs": [],
   "source": [
    "sentimantpredictions = lrModel.transform(sentimantpredictions)"
   ]
  },
  {
   "cell_type": "code",
   "execution_count": 32,
   "metadata": {
    "colab": {
     "base_uri": "https://localhost:8080/"
    },
    "executionInfo": {
     "elapsed": 667,
     "status": "ok",
     "timestamp": 1639021531067,
     "user": {
      "displayName": "venkatavarun nelakuditi",
      "photoUrl": "https://lh3.googleusercontent.com/a/default-user=s64",
      "userId": "09823158079456519085"
     },
     "user_tz": 360
    },
    "id": "id1plL4Nq6kO",
    "outputId": "d850cfb6-9ca0-441f-c2a8-14ae5b56d5ef"
   },
   "outputs": [
    {
     "name": "stdout",
     "output_type": "stream",
     "text": [
      "+--------------------+-------------+--------------------+----------------------+--------------------+--------------------+--------------------+--------------------+----------+\n",
      "|                 _c5|     catlabel|               words|TweetWithStopwordsfree|                  tf|            features|       rawPrediction|         probability|prediction|\n",
      "+--------------------+-------------+--------------------+----------------------+--------------------+--------------------+--------------------+--------------------+----------+\n",
      "|i m going to be i...|        sport|[i, m, going, to,...|  [m, going, ev, sa...|(65536,[7777,9739...|(65536,[7777,9739...|[5.68577655166498...|[0.00925271760610...|       4.0|\n",
      "|biden s controver...|entertainment|[biden, s, contro...|  [biden, controver...|(65536,[997,11233...|(65536,[997,11233...|[7.10226147721198...|[0.13704720485558...|       4.0|\n",
      "|in case no one ha...|        sport|[in, case, no, on...|  [case, one, told,...|(65536,[4919,7713...|(65536,[4919,7713...|[6.62478143961960...|[0.05756185795340...|       4.0|\n",
      "|jam tangan casio ...|     business|[jam, tangan, cas...|  [jam, tangan, cas...|(65536,[2570,2702...|(65536,[2570,2702...|[6.82752146142407...|[0.08388604477397...|       4.0|\n",
      "|ap b brbad ho ge phr|     business|[ap, b, brbad, ho...|  [ap, b, brbad, ho...|(65536,[9159,1790...|(65536,[9159,1790...|[8.50491970723051...|[0.72392385066500...|       0.0|\n",
      "|norris who still ...|        sport|[norris, who, sti...|  [norris, still, b...|(65536,[523,12021...|(65536,[523,12021...|[7.98870691409879...|[0.48315361011502...|       4.0|\n",
      "|putin controls biden|     business|[putin, controls,...|  [putin, controls,...|(65536,[15693,308...|(65536,[15693,308...|[7.71247512992026...|[0.34949092119951...|       4.0|\n",
      "|he shrinks in big...|         tech|[he, shrinks, in,...|  [shrinks, big, ga...|(65536,[35738,382...|(65536,[35738,382...|[7.78932376958127...|[0.38511609208198...|       4.0|\n",
      "|i dunno what ever...|        sport|[i, dunno, what, ...|  [dunno, everyone,...|(65536,[29715,365...|(65536,[29715,365...|[7.71642025353427...|[0.35136047032437...|       4.0|\n",
      "|omg tears in my eyes|entertainment|[omg, tears, in, ...|    [omg, tears, eyes]|(65536,[8449,4184...|(65536,[8449,4184...|[8.82281540440296...|[0.83202615810897...|       0.0|\n",
      "|        done join dc|    political|    [done, join, dc]|      [done, join, dc]|(65536,[29282,386...|(65536,[29282,386...|[7.54720725926652...|[0.27853873258456...|       4.0|\n",
      "|             explain|        sport|           [explain]|             [explain]|(65536,[24189],[1...|(65536,[24189],[7...|[7.75263078968976...|[0.36795758334612...|       4.0|\n",
      "|please support me...|        sport|[please, support,...|  [please, support,...|(65536,[35296,358...|(65536,[35296,358...|[7.97881029031363...|[0.47792627955771...|       4.0|\n",
      "|ashes 2021 joe ro...|        sport|[ashes, 2021, joe...|  [ashes, 2021, joe...|(65536,[18377,189...|(65536,[18377,189...|[7.77578998127086...|[0.37879217419635...|       4.0|\n",
      "|all my vids are o...|         tech|[all, my, vids, a...|  [vids, cam4, lepa...|(65536,[2570,5054...|(65536,[2570,5054...|[8.19585748535132...|[0.58551088156595...|       0.0|\n",
      "|croc s world 60 o...|         tech|[croc, s, world, ...|  [croc, world, 60,...|(65536,[11449,153...|(65536,[11449,153...|[8.54344116561723...|[0.73898724130848...|       0.0|\n",
      "|the unvaccinated ...|    political|[the, unvaccinate...|  [unvaccinated, vs...|(65536,[2120,9692...|(65536,[2120,9692...|[7.72816968411366...|[0.35677857011390...|       4.0|\n",
      "|feel good story o...|entertainment|[feel, good, stor...|  [feel, good, stor...|(65536,[46231,478...|(65536,[46231,478...|[7.85925352194484...|[0.41893335128179...|       4.0|\n",
      "|our nation is bei...|    political|[our, nation, is,...|  [nation, invaded,...|(65536,[3331,1226...|(65536,[3331,1226...|[9.22695328330438...|[0.91750072748586...|       0.0|\n",
      "|          still here|        sport|       [still, here]|               [still]|(65536,[31536],[1...|(65536,[31536],[3...|[8.25624822166601...|[0.61452019358877...|       0.0|\n",
      "+--------------------+-------------+--------------------+----------------------+--------------------+--------------------+--------------------+--------------------+----------+\n",
      "only showing top 20 rows\n",
      "\n"
     ]
    }
   ],
   "source": [
    "sentimantpredictions.show()"
   ]
  },
  {
   "cell_type": "code",
   "execution_count": 33,
   "metadata": {
    "executionInfo": {
     "elapsed": 116,
     "status": "ok",
     "timestamp": 1639021533365,
     "user": {
      "displayName": "venkatavarun nelakuditi",
      "photoUrl": "https://lh3.googleusercontent.com/a/default-user=s64",
      "userId": "09823158079456519085"
     },
     "user_tz": 360
    },
    "id": "vVLx8bnNrFSW"
   },
   "outputs": [],
   "source": [
    "sentimantpredictions=sentimantpredictions.drop(\"words\",\"TweetWithStopwordsfree\",\"tf\",\"features\",\"rawPrediction\",\"probability\")"
   ]
  },
  {
   "cell_type": "code",
   "execution_count": 34,
   "metadata": {
    "colab": {
     "base_uri": "https://localhost:8080/"
    },
    "executionInfo": {
     "elapsed": 487,
     "status": "ok",
     "timestamp": 1639021535403,
     "user": {
      "displayName": "venkatavarun nelakuditi",
      "photoUrl": "https://lh3.googleusercontent.com/a/default-user=s64",
      "userId": "09823158079456519085"
     },
     "user_tz": 360
    },
    "id": "EJWGByJzrTz3",
    "outputId": "ac92bfc3-e230-41b8-98dd-dcf185fbf281"
   },
   "outputs": [
    {
     "name": "stdout",
     "output_type": "stream",
     "text": [
      "+--------------------+-------------+----------+\n",
      "|                 _c5|     catlabel|prediction|\n",
      "+--------------------+-------------+----------+\n",
      "|i m going to be i...|        sport|       4.0|\n",
      "|biden s controver...|entertainment|       4.0|\n",
      "|in case no one ha...|        sport|       4.0|\n",
      "|jam tangan casio ...|     business|       4.0|\n",
      "|ap b brbad ho ge phr|     business|       0.0|\n",
      "|norris who still ...|        sport|       4.0|\n",
      "|putin controls biden|     business|       4.0|\n",
      "|he shrinks in big...|         tech|       4.0|\n",
      "|i dunno what ever...|        sport|       4.0|\n",
      "|omg tears in my eyes|entertainment|       0.0|\n",
      "|        done join dc|    political|       4.0|\n",
      "|             explain|        sport|       4.0|\n",
      "|please support me...|        sport|       4.0|\n",
      "|ashes 2021 joe ro...|        sport|       4.0|\n",
      "|all my vids are o...|         tech|       0.0|\n",
      "|croc s world 60 o...|         tech|       0.0|\n",
      "|the unvaccinated ...|    political|       4.0|\n",
      "|feel good story o...|entertainment|       4.0|\n",
      "|our nation is bei...|    political|       0.0|\n",
      "|          still here|        sport|       0.0|\n",
      "+--------------------+-------------+----------+\n",
      "only showing top 20 rows\n",
      "\n"
     ]
    }
   ],
   "source": [
    "sentimantpredictions.show()"
   ]
  },
  {
   "cell_type": "code",
   "execution_count": 35,
   "metadata": {
    "executionInfo": {
     "elapsed": 10706,
     "status": "ok",
     "timestamp": 1639021565901,
     "user": {
      "displayName": "venkatavarun nelakuditi",
      "photoUrl": "https://lh3.googleusercontent.com/a/default-user=s64",
      "userId": "09823158079456519085"
     },
     "user_tz": 360
    },
    "id": "0AoKQ7IOrq6v"
   },
   "outputs": [],
   "source": [
    "sentimantpredictions.write.csv(\"/content/gdrive/MyDrive/Colab Notebooks/tuesdaydatasetWithPredictedCategoryAndSentimentDecSix\")"
   ]
  }
 ],
 "metadata": {
  "colab": {
   "collapsed_sections": [],
   "name": "Preprocessin_and_model_building_twitter_dataset.ipynb",
   "provenance": [
    {
     "file_id": "1MAjMzH-RZv0hyBxShEsuTy9gl9dup5sC",
     "timestamp": 1638848908806
    }
   ]
  },
  "kernelspec": {
   "display_name": "Python 3 (ipykernel)",
   "language": "python",
   "name": "python3"
  },
  "language_info": {
   "codemirror_mode": {
    "name": "ipython",
    "version": 3
   },
   "file_extension": ".py",
   "mimetype": "text/x-python",
   "name": "python",
   "nbconvert_exporter": "python",
   "pygments_lexer": "ipython3",
   "version": "3.9.7"
  }
 },
 "nbformat": 4,
 "nbformat_minor": 1
}
